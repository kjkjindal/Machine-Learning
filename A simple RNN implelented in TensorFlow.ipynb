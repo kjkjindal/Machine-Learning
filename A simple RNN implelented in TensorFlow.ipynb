{
 "cells": [
  {
   "cell_type": "markdown",
   "metadata": {
    "collapsed": true
   },
   "source": [
    "## A simple RNN implelented in TensorFlow"
   ]
  },
  {
   "cell_type": "markdown",
   "metadata": {},
   "source": [
    "We will build a simple recurrent neural network that takes in the first term of a geometric progression (multiplier = 2) and returns its first 5 terms"
   ]
  },
  {
   "cell_type": "code",
   "execution_count": 1,
   "metadata": {
    "collapsed": true
   },
   "outputs": [],
   "source": [
    "import numpy as np\n",
    "import tensorflow as tf\n",
    "import matplotlib.pyplot as plt\n",
    "\n",
    "%matplotlib inline"
   ]
  },
  {
   "cell_type": "markdown",
   "metadata": {},
   "source": [
    "Basic structure of the RNN"
   ]
  },
  {
   "cell_type": "code",
   "execution_count": 2,
   "metadata": {},
   "outputs": [
    {
     "data": {
      "image/png": "[encoded data removed]",
      "text/plain": [
       "<IPython.core.display.Image object>"
      ]
     },
     "execution_count": 2,
     "metadata": {},
     "output_type": "execute_result"
    }
   ],
   "source": [
    "from IPython.core.display import Image \n",
    "Image(filename='images/rnn.png')"
   ]
  },
  {
   "cell_type": "code",
   "execution_count": 2,
   "metadata": {
    "collapsed": true
   },
   "outputs": [],
   "source": [
    "#sample data\n",
    "x1 = np.random.randint(0, 100, [10000]).reshape(10000,1)\n",
    "y1 = x1*2\n",
    "y2 = y1*2\n",
    "y3 = y2*2\n",
    "y4 = y3*2"
   ]
  },
  {
   "cell_type": "code",
   "execution_count": 3,
   "metadata": {
    "collapsed": true
   },
   "outputs": [],
   "source": [
    "data_x = x1\n",
    "data_y1 = [x1,y1,y2,y3,y4]"
   ]
  },
  {
   "cell_type": "code",
   "execution_count": 4,
   "metadata": {},
   "outputs": [
    {
     "data": {
      "text/plain": [
       "(10000, 1)"
      ]
     },
     "execution_count": 4,
     "metadata": {},
     "output_type": "execute_result"
    }
   ],
   "source": [
    "data_x.shape"
   ]
  },
  {
   "cell_type": "code",
   "execution_count": 5,
   "metadata": {
    "collapsed": true
   },
   "outputs": [],
   "source": [
    "data_y = np.array(data_y1)"
   ]
  },
  {
   "cell_type": "code",
   "execution_count": 6,
   "metadata": {},
   "outputs": [
    {
     "data": {
      "text/plain": [
       "(10000, 5)"
      ]
     },
     "execution_count": 6,
     "metadata": {},
     "output_type": "execute_result"
    }
   ],
   "source": [
    "data_y = data_y.reshape(5,10000).transpose()\n",
    "data_y.shape"
   ]
  },
  {
   "cell_type": "code",
   "execution_count": 7,
   "metadata": {
    "collapsed": true
   },
   "outputs": [],
   "source": [
    "#hyperparams\n",
    "epochs = 1000\n",
    "batch_size = 64\n",
    "num_batches = data_x.shape[0]//64\n",
    "num_steps = data_y.shape[1]\n",
    "epsilon = 1e-3"
   ]
  },
  {
   "cell_type": "code",
   "execution_count": 8,
   "metadata": {
    "collapsed": true
   },
   "outputs": [],
   "source": [
    "tf.reset_default_graph()"
   ]
  },
  {
   "cell_type": "code",
   "execution_count": 9,
   "metadata": {
    "collapsed": true
   },
   "outputs": [],
   "source": [
    "init = tf.contrib.layers.xavier_initializer()"
   ]
  },
  {
   "cell_type": "code",
   "execution_count": 11,
   "metadata": {
    "collapsed": true
   },
   "outputs": [],
   "source": [
    "#data\n",
    "x = tf.placeholder(tf.float32, [None, 1], name='x')\n",
    "y = tf.placeholder(tf.float32, [None, 5], name='y')\n",
    "hidden = tf.placeholder(tf.float32, [None,20], name='hidden')\n",
    "\n",
    "#params for input to hidden\n",
    "w_i_h = tf.get_variable(name='w_i_h', shape=[1,20])\n",
    "b_i_h = tf.Variable(tf.ones([20])*0.1, name='b_i_h')\n",
    "\n",
    "#params for hidden(t) to hidden(t+1)\n",
    "w_h_h = tf.get_variable(name = 'w_h_h', shape=[20,20])\n",
    "\n",
    "#params for hidden(t) to output\n",
    "w_h_o = tf.get_variable(name='w_h_o', shape=[20, 1])\n",
    "b_h_o = tf.Variable(tf.ones([1])*0.1, name='b_h_o')"
   ]
  },
  {
   "cell_type": "code",
   "execution_count": 12,
   "metadata": {
    "collapsed": true
   },
   "outputs": [],
   "source": [
    "#neural net\n",
    "def rnn_net(x, h_init, k):\n",
    "    yo = []\n",
    "    for i in range(k):\n",
    "        yh = tf.nn.relu(tf.matmul(x,w_i_h) + b_i_h + tf.matmul(h_init, w_h_h))  #this is where we account for the metworks previous state\n",
    "        yo.append(tf.nn.relu(tf.matmul(yh, w_h_o) + b_h_o))\n",
    "        h_init = yh\n",
    "        \n",
    "    return tf.concat(yo, axis=1), yh"
   ]
  },
  {
   "cell_type": "code",
   "execution_count": 13,
   "metadata": {
    "collapsed": true
   },
   "outputs": [],
   "source": [
    "#loss and train\n",
    "y_out, y_hidden = rnn_net(x, hidden, num_steps)\n",
    "\n",
    "#loss = tf.reduce_mean((y-y_out)**2) + epsilon\n",
    "loss = tf.losses.huber_loss(y, y_out)  #a better loss for regression like problems\n",
    "train = tf.train.AdamOptimizer(0.0001).minimize(loss)"
   ]
  },
  {
   "cell_type": "code",
   "execution_count": 14,
   "metadata": {
    "collapsed": true
   },
   "outputs": [],
   "source": [
    "sess = tf.Session()"
   ]
  },
  {
   "cell_type": "code",
   "execution_count": 15,
   "metadata": {
    "collapsed": true
   },
   "outputs": [],
   "source": [
    "sess.run(tf.global_variables_initializer())"
   ]
  },
  {
   "cell_type": "code",
   "execution_count": 16,
   "metadata": {
    "scrolled": true
   },
   "outputs": [
    {
     "name": "stdout",
     "output_type": "stream",
     "text": [
      "253.556\n",
      "0.536319\n",
      "0.00940658\n",
      "0.0058236\n",
      "0.0036245\n",
      "0.00257117\n",
      "0.0018699\n",
      "0.00141701\n",
      "0.00111334\n",
      "0.000897513\n",
      "0.000771175\n",
      "0.00190144\n",
      "0.000638293\n",
      "0.000469566\n",
      "0.00042138\n",
      "0.000380564\n",
      "0.000376229\n",
      "0.000315824\n",
      "0.00251506\n",
      "0.000272925\n",
      "0.000283637\n",
      "0.00025272\n",
      "0.000218054\n",
      "0.000199914\n",
      "0.00271225\n",
      "0.000184804\n",
      "0.0001636\n",
      "0.000155536\n",
      "0.000148691\n",
      "0.000506571\n",
      "0.000154869\n",
      "0.00306844\n",
      "0.0001177\n",
      "0.00232758\n",
      "0.000114516\n",
      "0.000103112\n",
      "0.000104351\n",
      "0.012523\n",
      "8.9463e-05\n",
      "8.54458e-05\n",
      "8.66628e-05\n",
      "0.00198153\n",
      "0.00079187\n",
      "7.32642e-05\n",
      "8.32605e-05\n",
      "0.000519179\n",
      "6.4186e-05\n",
      "6.13178e-05\n",
      "8.86514e-05\n",
      "5.85238e-05\n",
      "0.025203\n",
      "0.00379916\n",
      "5.07647e-05\n",
      "0.00130848\n",
      "4.88436e-05\n",
      "9.20621e-05\n",
      "4.42498e-05\n",
      "0.00237648\n",
      "4.24954e-05\n",
      "0.000165727\n",
      "0.00215333\n",
      "3.69614e-05\n",
      "3.57355e-05\n",
      "3.55663e-05\n",
      "0.00160182\n",
      "3.21738e-05\n",
      "3.13439e-05\n",
      "3.01858e-05\n",
      "2.92587e-05\n",
      "3.18363e-05\n",
      "2.85641e-05\n",
      "6.2667e-05\n",
      "2.51458e-05\n",
      "2.46694e-05\n",
      "2.34895e-05\n",
      "3.01297e-05\n",
      "2.17942e-05\n",
      "2.11371e-05\n",
      "0.000116636\n",
      "0.00241971\n",
      "9.79458e-05\n",
      "2.35462e-05\n",
      "3.25274e-05\n",
      "0.00145243\n",
      "0.000583611\n",
      "0.000566624\n",
      "0.000790727\n",
      "1.52211e-05\n",
      "0.00241486\n",
      "1.42746e-05\n",
      "4.95425e-05\n",
      "1.44518e-05\n",
      "0.000353348\n",
      "1.26688e-05\n",
      "1.29282e-05\n",
      "1.19869e-05\n",
      "0.000566415\n",
      "1.25368e-05\n",
      "1.08081e-05\n",
      "1.03444e-05\n"
     ]
    }
   ],
   "source": [
    "losses =[]\n",
    "h = np.zeros([batch_size, 20], np.float32)\n",
    "for i in range(epochs):\n",
    "    ptr = 0\n",
    "    for  j in range(num_batches):\n",
    "        x_train = data_x[ptr: ptr+batch_size]\n",
    "        y_train = data_y[ptr: ptr+batch_size]\n",
    "        ptr += batch_size\n",
    "        loss_curr, _ = sess.run([loss, train], feed_dict={x: x_train, y: y_train, hidden: h})\n",
    "        \n",
    "    if(i%10 == 0):\n",
    "        losses.append(loss_curr)\n",
    "        print(loss_curr)\n"
   ]
  },
  {
   "cell_type": "markdown",
   "metadata": {},
   "source": [
    "### Now it is time to test our network"
   ]
  },
  {
   "cell_type": "code",
   "execution_count": 24,
   "metadata": {
    "collapsed": true
   },
   "outputs": [],
   "source": [
    "#sample input data\n",
    "data_test = np.random.randint(0,100,10).reshape(10,1)"
   ]
  },
  {
   "cell_type": "code",
   "execution_count": 25,
   "metadata": {
    "collapsed": true
   },
   "outputs": [],
   "source": [
    "h = np.zeros([10,20], np.float32)"
   ]
  },
  {
   "cell_type": "code",
   "execution_count": 28,
   "metadata": {
    "collapsed": true
   },
   "outputs": [],
   "source": [
    "a,_ = sess.run(rnn_net(data_test.astype(np.float32), h, num_steps))"
   ]
  },
  {
   "cell_type": "code",
   "execution_count": 29,
   "metadata": {},
   "outputs": [
    {
     "name": "stdout",
     "output_type": "stream",
     "text": [
      "[89] [   89.   178.   356.   712.  1424.]\n",
      "[96] [   96.   192.   384.   768.  1536.]\n",
      "[88] [   88.   176.   352.   704.  1408.]\n",
      "[59] [  59.  118.  236.  472.  944.]\n",
      "[16] [  16.   32.   64.  128.  256.]\n",
      "[7] [   7.   14.   28.   56.  112.]\n",
      "[50] [  50.  100.  200.  400.  800.]\n",
      "[29] [  29.   58.  116.  232.  464.]\n",
      "[98] [   98.   196.   392.   784.  1567.]\n",
      "[57] [  57.  114.  228.  456.  912.]\n"
     ]
    }
   ],
   "source": [
    "for i, j in zip(data_test, np.rint(a)):\n",
    "    print(i,j)"
   ]
  },
  {
   "cell_type": "markdown",
   "metadata": {},
   "source": [
    "Outputs are as expected"
   ]
  },
  {
   "cell_type": "code",
   "execution_count": 21,
   "metadata": {},
   "outputs": [
    {
     "data": {
      "text/plain": [
       "[<matplotlib.lines.Line2D at 0x194261ca860>]"
      ]
     },
     "execution_count": 21,
     "metadata": {},
     "output_type": "execute_result"
    },
    {
     "data": {
      "image/png": "[encoded data removed]",
      "text/plain": [
       "<matplotlib.figure.Figure at 0x19426191d68>"
      ]
     },
     "metadata": {},
     "output_type": "display_data"
    }
   ],
   "source": [
    "plt.plot(losses)"
   ]
  },
  {
   "cell_type": "code",
   "execution_count": 30,
   "metadata": {},
   "outputs": [
    {
     "name": "stdout",
     "output_type": "stream",
     "text": [
      "[120] [  120.   240.   480.   960.  1919.]\n",
      "[483] [  483.   966.  1932.  3863.  7724.]\n",
      "[943] [   943.   1886.   3772.   7542.  15081.]\n",
      "[533] [  533.  1066.  2132.  4263.  8524.]\n",
      "[621] [  621.  1242.  2484.  4967.  9931.]\n",
      "[800] [   800.   1600.   3200.   6398.  12794.]\n",
      "[153] [  153.   306.   612.  1224.  2447.]\n",
      "[953] [   953.   1906.   3812.   7622.  15241.]\n",
      "[134] [  134.   268.   536.  1072.  2143.]\n",
      "[991] [   991.   1982.   3964.   7926.  15848.]\n",
      "[660] [   660.   1320.   2640.   5279.  10555.]\n",
      "[809] [   809.   1618.   3236.   6470.  12938.]\n",
      "[317] [  317.   634.  1268.  2535.  5070.]\n",
      "[223] [  223.   446.   892.  1784.  3566.]\n",
      "[433] [  433.   866.  1732.  3463.  6925.]\n",
      "[894] [   894.   1788.   3576.   7150.  14297.]\n",
      "[476] [  476.   952.  1904.  3807.  7612.]\n",
      "[298] [  298.   596.  1192.  2383.  4766.]\n",
      "[618] [  618.  1236.  2472.  4943.  9883.]\n",
      "[880] [   880.   1760.   3520.   7038.  14073.]\n",
      "[418] [  418.   836.  1672.  3343.  6685.]\n",
      "[953] [   953.   1906.   3812.   7622.  15241.]\n",
      "[397] [  397.   794.  1588.  3175.  6349.]\n",
      "[164] [  164.   328.   656.  1312.  2623.]\n",
      "[999] [   999.   1998.   3996.   7990.  15976.]\n",
      "[330] [  330.   660.  1320.  2639.  5278.]\n",
      "[764] [   764.   1528.   3056.   6110.  12218.]\n",
      "[501] [  501.  1002.  2004.  4007.  8012.]\n",
      "[348] [  348.   696.  1392.  2783.  5565.]\n",
      "[797] [   797.   1594.   3188.   6374.  12746.]\n"
     ]
    }
   ],
   "source": [
    "#inputing numbers larger than 100\n",
    "data_test = np.random.randint(100,1000,30).reshape(30,1)\n",
    "\n",
    "h = np.zeros([30,20], np.float32)\n",
    "\n",
    "a,_ = sess.run(rnn_net(data_test.astype(np.float32), h, num_steps))\n",
    "\n",
    "for i, j in zip(data_test, np.rint(a)):\n",
    "    print(i,j)"
   ]
  },
  {
   "cell_type": "markdown",
   "metadata": {},
   "source": [
    "The network also works well (albiet with limited accuracy) with numbers larger than 100 as well"
   ]
  },
  {
   "cell_type": "code",
   "execution_count": null,
   "metadata": {
    "collapsed": true
   },
   "outputs": [],
   "source": []
  }
 ],
 "metadata": {
  "kernelspec": {
   "display_name": "Python 3",
   "language": "python",
   "name": "python3"
  },
  "language_info": {
   "codemirror_mode": {
    "name": "ipython",
    "version": 3
   },
   "file_extension": ".py",
   "mimetype": "text/x-python",
   "name": "python",
   "nbconvert_exporter": "python",
   "pygments_lexer": "ipython3",
   "version": "3.6.1"
  }
 },
 "nbformat": 4,
 "nbformat_minor": 2
}
