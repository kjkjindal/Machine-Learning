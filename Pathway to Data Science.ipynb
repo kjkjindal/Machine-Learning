{
 "cells": [
  {
   "cell_type": "markdown",
   "metadata": {},
   "source": [
    "## Pathway to Data Science"
   ]
  },
  {
   "cell_type": "markdown",
   "metadata": {},
   "source": [
    "The following are a number of resources one can use to jump into Data Science:\n"
   ]
  },
  {
   "cell_type": "markdown",
   "metadata": {},
   "source": [
    "### Learn to  Program\n",
    "\n",
    "**(Complete Beginners/ First time Programmers start here)** <br/>\n",
    "CS50 is the best course for anyone who wants to break into Computer Science. The course serves well in helping develop a strong understanding of key programming concepts. It covers C, Python, Javascript and HTML.<br/>\n",
    "https://www.edx.org/course/cs50s-introduction-computer-science-harvardx-cs50x\n",
    "\n",
    "For those who don't have time for a roughly 12 week CS course, Codecademy provides ample lessons for anyone who wants to get into python programming. Python is one the most popular data science languages so it is important to have a good understanding of it. <br/>\n",
    "https://www.codecademy.com/learn/learn-python "
   ]
  },
  {
   "cell_type": "markdown",
   "metadata": {},
   "source": [
    "### Basics of Data Science (Data Processing)\n",
    "\n",
    "**(Beginner Python programmers/ Data Science newbies start here)** <br/>\n",
    "The Data Science bootcamp course from Udemy is the perfect place for anyone who has some programming experience (Python or any other language) and wants to jump into data science. I completed only the first half of the course, which is super effective for learning Python, Numpy, Pandas, Matplotlib and Seaborn syntax and usage in data processing (We'll come back to the second half of the course later).<br/>\n",
    "https://www.udemy.com/python-for-data-science-and-machine-learning-bootcamp/learn/v4/overview"
   ]
  },
  {
   "cell_type": "markdown",
   "metadata": {},
   "source": [
    "### Basics of Data Science (The Math)\n",
    "**(Start here to skip basic syntactic training and jump straight into the math)** <br/>\n",
    "One of the longest standing online courses in Machine Learning, 'Machine Learning' by Andrew Ng on Coursera is the best place to get started with linear algebra for machine learning and basic (albiet key) concepts of machine learning. Andrew does a good job of exposing learners to just enough math to gain useful insights into various algorithms, but at the same time not overwhelming them with math information.\n",
    "\n",
    "While the math is useful, the programming assignments might not be. Given the age of the course, most (if not all) assignments are in MATLAB/Octave. I'd suggest going through the videos for the first 8 weeks (or the entire course if you wish) since that is the part which is most relevant to most modern day applications (and of course, take notes!!). <br/>\n",
    "https://www.coursera.org/learn/machine-learning\n",
    "\n",
    "**OPTIONAL:** If anyone wants to dive deep into the math: [An Introduction to Statistical Learning](http://www-bcf.usc.edu/~gareth/ISL/ISLR%20Sixth%20Printing.pdf)\n",
    "\n",
    "**RECOMMENDED:** The [Python Data Science Handbook](http://shop.oreilly.com/product/0636920034919.do) is a good and concise reference several data processing, data visualization and basic machine learning tasks."
   ]
  },
  {
   "cell_type": "markdown",
   "metadata": {},
   "source": [
    "### Machine Learning with Python\n",
    "Now might be a good time to go back to the second part of the Udemy Data Science Bootcamp course. The second part offers easy to follow tutorials for implementing several basic and advanced machine learning algorithms using Scikit-Learn, a popular Data Science library for Python (uptil Section 24).<br/>\n",
    "https://www.udemy.com/python-for-data-science-and-machine-learning-bootcamp/learn/v4/overview"
   ]
  },
  {
   "cell_type": "markdown",
   "metadata": {},
   "source": [
    "### Deep Learning and Neural Networks\n",
    "Finally, now is the time to get to the most exciting topic of all, Deep Learning. The 5 course Deep Learning specialization by Coursera, taught by Andrew Ng is one of the best ways to get into deep learning. It combines Andrew's pedagogical prowess with modern Deep Learning coursework. Most videos and assignments (which by the way are in Python) are available for free.\n",
    "While the specialization also covers brief tutorials for Numpy etc, they are no where as good as the ones from Udemy.<br/>\n",
    "https://www.coursera.org/specializations/deep-learning"
   ]
  },
  {
   "cell_type": "markdown",
   "metadata": {},
   "source": [
    "### Deep Learning Frameworks (Tensorflow)\n",
    "While there are several Deep Learning Frameworks, the tutorial primarily covers only tensorflow (since that is what I have learnt). It might be a good time to refer back to the Udemy Data Science Bootcamp course (Section 26) to get comfortable with using TensorFlow. Coursera's Deep Learning Specialization also offers some tutorials for TensorFlow, but yet again, I found Udemy's offerings better.\n",
    "\n",
    "Other good sources to learn TensorFlow:<br/>\n",
    "[Machine Learning without a PhD](https://www.youtube.com/watch?v=vq2nnJ4g6N0)<br/>\n",
    "https://www.tensorflow.org/versions/r1.1/get_started/mnist/beginners\n"
   ]
  },
  {
   "cell_type": "markdown",
   "metadata": {},
   "source": [
    "### Other cool DL sources\n",
    "[NEW MACHINE LEARNING CRASH COURSE BY GOOGLE](https://developers.google.com/machine-learning/crash-course/ml-intro):\n",
    "I haven't personally studied this, but it seems like a good introductory course for ML.<br/>\n",
    "\n",
    "\n",
    "[Siraj Raval](https://www.youtube.com/channel/UCWN3xxRkmTPmbKwht9FuE5A): This is a good place to check out what's new in Deep Learning as he posts a new video every week. I am not a big fan of his whirlwind explanantions of Deep Learning algorithms though."
   ]
  },
  {
   "cell_type": "code",
   "execution_count": null,
   "metadata": {
    "collapsed": true
   },
   "outputs": [],
   "source": []
  }
 ],
 "metadata": {
  "kernelspec": {
   "display_name": "Python 3",
   "language": "python",
   "name": "python3"
  },
  "language_info": {
   "codemirror_mode": {
    "name": "ipython",
    "version": 3
   },
   "file_extension": ".py",
   "mimetype": "text/x-python",
   "name": "python",
   "nbconvert_exporter": "python",
   "pygments_lexer": "ipython3",
   "version": "3.6.3"
  }
 },
 "nbformat": 4,
 "nbformat_minor": 2
}
