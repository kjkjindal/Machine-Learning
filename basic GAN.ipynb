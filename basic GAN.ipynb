{
 "cells": [
  {
   "cell_type": "markdown",
   "metadata": {},
   "source": [
    "# Basic GAN"
   ]
  },
  {
   "cell_type": "markdown",
   "metadata": {},
   "source": [
    "### Here we create a generative adversarial network to generate points of a gaussian distribution\n",
    "#### (mean=4.0, stddev=1.0)"
   ]
  },
  {
   "cell_type": "code",
   "execution_count": 1,
   "metadata": {
    "collapsed": true
   },
   "outputs": [],
   "source": [
    "import numpy as np\n",
    "import tensorflow as tf\n",
    "import matplotlib.pyplot as plt\n",
    "\n",
    "%matplotlib inline"
   ]
  },
  {
   "cell_type": "code",
   "execution_count": 36,
   "metadata": {
    "collapsed": true
   },
   "outputs": [],
   "source": [
    "#training data\n",
    "data_x = (np.random.randn(10000) + 4).reshape(10000,1)"
   ]
  },
  {
   "cell_type": "code",
   "execution_count": 73,
   "metadata": {},
   "outputs": [
    {
     "data": {
      "text/plain": [
       "(array([  1.00000000e+00,   0.00000000e+00,   0.00000000e+00,\n",
       "          4.00000000e+00,   3.50000000e+01,   1.06000000e+02,\n",
       "          2.92000000e+02,   6.83000000e+02,   1.20100000e+03,\n",
       "          1.65700000e+03,   1.81500000e+03,   1.73800000e+03,\n",
       "          1.23600000e+03,   7.15000000e+02,   3.43000000e+02,\n",
       "          1.19000000e+02,   3.90000000e+01,   1.40000000e+01,\n",
       "          1.00000000e+00,   1.00000000e+00]),\n",
       " array([-1.06286836, -0.58222439, -0.10158043,  0.37906354,  0.85970751,\n",
       "         1.34035148,  1.82099545,  2.30163941,  2.78228338,  3.26292735,\n",
       "         3.74357132,  4.22421529,  4.70485925,  5.18550322,  5.66614719,\n",
       "         6.14679116,  6.62743513,  7.10807909,  7.58872306,  8.06936703,\n",
       "         8.550011  ]),\n",
       " <a list of 20 Patch objects>)"
      ]
     },
     "execution_count": 73,
     "metadata": {},
     "output_type": "execute_result"
    },
    {
     "data": {
      "image/png": "[encoded data removed]",
      "text/plain": [
       "<matplotlib.figure.Figure at 0x278b4bf7b38>"
      ]
     },
     "metadata": {},
     "output_type": "display_data"
    }
   ],
   "source": [
    "#histogram of out training data\n",
    "plt.hist(data_x, bins = 20)"
   ]
  },
  {
   "cell_type": "code",
   "execution_count": 61,
   "metadata": {
    "collapsed": true
   },
   "outputs": [],
   "source": [
    "#hyperparams\n",
    "epochs = 100\n",
    "batch_size = 64\n",
    "num_batches = data_x.shape[0]//batch_size"
   ]
  },
  {
   "cell_type": "code",
   "execution_count": 12,
   "metadata": {
    "collapsed": true
   },
   "outputs": [],
   "source": [
    "#discriminator\n",
    "x = tf.placeholder(tf.float32, [None, 1], name='x')\n",
    "\n",
    "w_d_1 = tf.Variable(tf.truncated_normal([1, 20], stddev=0.1), name='w_d_1')\n",
    "b_d_1 = tf.Variable(tf.zeros([20]), name='b_d_1')\n",
    "\n",
    "w_d_2 = tf.Variable(tf.truncated_normal([20,1], stddev=0.1), name='w_d_2')\n",
    "b_d_2 = tf.Variable(tf.zeros([1], name='b_d_2'))"
   ]
  },
  {
   "cell_type": "code",
   "execution_count": 23,
   "metadata": {
    "collapsed": true
   },
   "outputs": [],
   "source": [
    "def discriminator(x):\n",
    "    y1 = tf.nn.relu(tf.matmul(x, w_d_1) + b_d_1)\n",
    "    logit = tf.matmul(y1, w_d_2) + b_d_2\n",
    "    y2 = tf.nn.sigmoid(logit)\n",
    "    \n",
    "    return y2, logit\n",
    "    "
   ]
  },
  {
   "cell_type": "code",
   "execution_count": 20,
   "metadata": {
    "collapsed": true
   },
   "outputs": [],
   "source": [
    "#generator\n",
    "z = tf.placeholder(tf.float32, [None, 10], name='z')\n",
    "\n",
    "w_g_1 = tf.Variable(tf.truncated_normal([10,20], stddev=0.1), name='w_g_1')\n",
    "b_g_1 = tf.Variable(tf.zeros([20]), name='b_g_1')\n",
    "\n",
    "w_g_2 = tf.Variable(tf.truncated_normal([20,1], stddev=0.1), name = 'w_g_2')\n",
    "b_g_2 = tf.Variable(tf.zeros([1]), name='b_g_2')"
   ]
  },
  {
   "cell_type": "code",
   "execution_count": 24,
   "metadata": {
    "collapsed": true
   },
   "outputs": [],
   "source": [
    "def generator(z):\n",
    "    y1 = tf.nn.relu(tf.matmul(z, w_g_1) + b_g_1)\n",
    "    y2 = tf.nn.relu(tf.matmul(y1, w_g_2) + b_g_2)\n",
    "    \n",
    "    return y2"
   ]
  },
  {
   "cell_type": "code",
   "execution_count": 27,
   "metadata": {
    "collapsed": true
   },
   "outputs": [],
   "source": [
    "#losses\n",
    "d_real, d_real_logit = discriminator(x)\n",
    "d_fake, d_fake_logit = discriminator(generator(z))\n",
    "loss_d_real = tf.reduce_mean(tf.nn.sigmoid_cross_entropy_with_logits(labels=tf.ones_like(d_real_logit), logits=d_real_logit))\n",
    "loss_d_fake = tf.reduce_mean(tf.nn.sigmoid_cross_entropy_with_logits(labels=tf.zeros_like(d_fake_logit), logits=d_fake_logit))\n",
    "\n",
    "loss_d = loss_d_fake + loss_d_real\n",
    "\n",
    "g_fake = discriminator(generator(z))\n",
    "loss_g = tf.reduce_mean(tf.nn.sigmoid_cross_entropy_with_logits(labels = tf.ones_like(g_fake), logits=g_fake))"
   ]
  },
  {
   "cell_type": "code",
   "execution_count": 28,
   "metadata": {
    "collapsed": true
   },
   "outputs": [],
   "source": [
    "#train\n",
    "d_vars = [w_d_1, b_d_1, w_d_2, b_d_2]\n",
    "g_vars = [w_g_1, b_g_1, w_g_2, b_g_2]\n",
    "\n",
    "solver_d = tf.train.AdamOptimizer(learning_rate=0.0001).minimize(loss_d, var_list = d_vars)\n",
    "solver_g = tf.train.AdamOptimizer(learning_rate=0.0001).minimize(loss_g, var_list = g_vars)"
   ]
  },
  {
   "cell_type": "code",
   "execution_count": 30,
   "metadata": {
    "collapsed": true
   },
   "outputs": [],
   "source": [
    "#random sampling function\n",
    "def sample(l,m):\n",
    "    return np.random.randn(l,m)"
   ]
  },
  {
   "cell_type": "code",
   "execution_count": 68,
   "metadata": {
    "collapsed": true
   },
   "outputs": [],
   "source": [
    "sess = tf.Session()"
   ]
  },
  {
   "cell_type": "code",
   "execution_count": 69,
   "metadata": {
    "collapsed": true
   },
   "outputs": [],
   "source": [
    "sess.run(tf.global_variables_initializer())"
   ]
  },
  {
   "cell_type": "code",
   "execution_count": 70,
   "metadata": {},
   "outputs": [
    {
     "name": "stdout",
     "output_type": "stream",
     "text": [
      "Result:\n",
      "1.31658 0.586791\n",
      "Result:\n",
      "1.28219 0.590302\n",
      "Result:\n",
      "1.24775 0.594073\n",
      "Result:\n",
      "1.21136 0.595301\n",
      "Result:\n",
      "1.17957 0.594553\n",
      "Result:\n",
      "1.15583 0.594199\n",
      "Result:\n",
      "1.14801 0.590561\n",
      "Result:\n",
      "1.15747 0.576281\n",
      "Result:\n",
      "1.17729 0.551018\n",
      "Result:\n",
      "1.20357 0.550695\n",
      "Result:\n",
      "1.2903 0.536189\n",
      "Result:\n",
      "1.33591 0.535065\n",
      "Result:\n",
      "1.39425 0.531031\n",
      "Result:\n",
      "1.38587 0.531301\n",
      "Result:\n",
      "1.39585 0.54691\n",
      "Result:\n",
      "1.42648 0.573727\n",
      "Result:\n",
      "1.43497 0.587782\n",
      "Result:\n",
      "1.43383 0.608755\n",
      "Result:\n",
      "1.41876 0.625134\n",
      "Result:\n",
      "1.41357 0.636862\n",
      "Result:\n",
      "1.40737 0.648581\n",
      "Result:\n",
      "1.40266 0.658101\n",
      "Result:\n",
      "1.39645 0.665919\n",
      "Result:\n",
      "1.3898 0.670491\n",
      "Result:\n",
      "1.38893 0.671119\n",
      "Result:\n",
      "1.3849 0.664045\n",
      "Result:\n",
      "1.38812 0.660148\n",
      "Result:\n",
      "1.38547 0.65042\n",
      "Result:\n",
      "1.38558 0.64229\n",
      "Result:\n",
      "1.38124 0.629168\n",
      "Result:\n",
      "1.38754 0.616563\n",
      "Result:\n",
      "1.39025 0.607548\n",
      "Result:\n",
      "1.38825 0.597327\n",
      "Result:\n",
      "1.38613 0.589787\n",
      "Result:\n",
      "1.38481 0.584866\n",
      "Result:\n",
      "1.3856 0.581482\n",
      "Result:\n",
      "1.38695 0.582608\n",
      "Result:\n",
      "1.38688 0.584137\n",
      "Result:\n",
      "1.38779 0.585452\n",
      "Result:\n",
      "1.38766 0.587233\n",
      "Result:\n",
      "1.3869 0.586816\n",
      "Result:\n",
      "1.38848 0.584973\n",
      "Result:\n",
      "1.38727 0.583136\n",
      "Result:\n",
      "1.38809 0.584389\n",
      "Result:\n",
      "1.38881 0.587931\n",
      "Result:\n",
      "1.38869 0.591371\n",
      "Result:\n",
      "1.38843 0.589008\n",
      "Result:\n",
      "1.38794 0.58723\n",
      "Result:\n",
      "1.38707 0.590944\n",
      "Result:\n",
      "1.38648 0.594584\n",
      "Result:\n",
      "1.38635 0.594354\n",
      "Result:\n",
      "1.38703 0.588846\n",
      "Result:\n",
      "1.3864 0.583075\n",
      "Result:\n",
      "1.38589 0.580944\n",
      "Result:\n",
      "1.38627 0.582129\n",
      "Result:\n",
      "1.38632 0.585611\n",
      "Result:\n",
      "1.38598 0.586068\n",
      "Result:\n",
      "1.38572 0.58276\n",
      "Result:\n",
      "1.38521 0.579817\n",
      "Result:\n",
      "1.38515 0.581265\n",
      "Result:\n",
      "1.38468 0.583972\n",
      "Result:\n",
      "1.3853 0.583311\n",
      "Result:\n",
      "1.38589 0.583053\n",
      "Result:\n",
      "1.38614 0.585187\n",
      "Result:\n",
      "1.38638 0.584139\n",
      "Result:\n",
      "1.38597 0.58335\n",
      "Result:\n",
      "1.38598 0.58125\n",
      "Result:\n",
      "1.38721 0.586344\n",
      "Result:\n",
      "1.387 0.582497\n",
      "Result:\n",
      "1.38659 0.584764\n",
      "Result:\n",
      "1.3866 0.583417\n",
      "Result:\n",
      "1.38614 0.581828\n",
      "Result:\n",
      "1.38678 0.586042\n",
      "Result:\n",
      "1.3874 0.582357\n",
      "Result:\n",
      "1.38711 0.58501\n",
      "Result:\n",
      "1.38853 0.584354\n",
      "Result:\n",
      "1.38727 0.582054\n",
      "Result:\n",
      "1.387 0.585506\n",
      "Result:\n",
      "1.38674 0.582945\n",
      "Result:\n",
      "1.38605 0.581846\n",
      "Result:\n",
      "1.38748 0.585846\n",
      "Result:\n",
      "1.38707 0.583335\n",
      "Result:\n",
      "1.38817 0.584493\n",
      "Result:\n",
      "1.38785 0.58626\n",
      "Result:\n",
      "1.38623 0.580636\n",
      "Result:\n",
      "1.38461 0.581949\n",
      "Result:\n",
      "1.38465 0.59001\n",
      "Result:\n",
      "1.39015 0.58317\n",
      "Result:\n",
      "1.3851 0.578909\n",
      "Result:\n",
      "1.38716 0.582983\n",
      "Result:\n",
      "1.38568 0.588674\n",
      "Result:\n",
      "1.38858 0.583682\n",
      "Result:\n",
      "1.38726 0.582557\n",
      "Result:\n",
      "1.38575 0.58422\n",
      "Result:\n",
      "1.38753 0.582388\n",
      "Result:\n",
      "1.38623 0.580214\n",
      "Result:\n",
      "1.38722 0.584753\n",
      "Result:\n",
      "1.38534 0.588261\n",
      "Result:\n",
      "1.38687 0.578837\n",
      "Result:\n",
      "1.3865 0.579874\n"
     ]
    }
   ],
   "source": [
    "losses = []\n",
    "\n",
    "random_sample = sample(16000,10)\n",
    "\n",
    "for i in range(epochs):\n",
    "    ptr = 0\n",
    "    for j in range(num_batches):\n",
    "           \n",
    "        x_train = data_x[ptr:ptr+batch_size]\n",
    "        ptr+=batch_size\n",
    "        _, G_curr_loss = sess.run([solver_g, loss_g], feed_dict = {z: sample(batch_size, 10)})\n",
    "        _, D_curr_loss = sess.run([solver_d, loss_d], feed_dict = {x: x_train, z: sample(batch_size, 10)})\n",
    "\n",
    "    losses.append((D_curr_loss, G_curr_loss))\n",
    "\n",
    "\n",
    "    print('Result:')\n",
    "    print(D_curr_loss, G_curr_loss)\n",
    "        \n",
    "    fig = plt.hist(data_x, bins=100)\n",
    "    fig = plt.hist(sess.run(generator(z), feed_dict={z: random_sample}), bins=100)\n",
    "    plt.xlim((-10,10))\n",
    "    plt.savefig('out_basic/{}.png'.format(str(i).zfill(3)), bbox_inches='tight')\n",
    "    plt.close()\n",
    "        \n",
    "    \n",
    "    "
   ]
  },
  {
   "cell_type": "code",
   "execution_count": 75,
   "metadata": {},
   "outputs": [
    {
     "data": {
      "text/plain": [
       "(array([   8.,   32.,   67.,  145.,  225.,  229.,  173.,   89.,   27.,    5.]),\n",
       " array([ 1.00317407,  1.60478113,  2.20638819,  2.80799525,  3.40960231,\n",
       "         4.01120937,  4.61281643,  5.21442349,  5.81603055,  6.41763761,\n",
       "         7.01924467]),\n",
       " <a list of 10 Patch objects>)"
      ]
     },
     "execution_count": 75,
     "metadata": {},
     "output_type": "execute_result"
    },
    {
     "data": {
      "image/png": "[encoded data removed]",
      "text/plain": [
       "<matplotlib.figure.Figure at 0x278b4d1dc18>"
      ]
     },
     "metadata": {},
     "output_type": "display_data"
    }
   ],
   "source": [
    "#let us check the output of the generator after training\n",
    "plt.hist(sess.run(generator(z), feed_dict={z: sample(1000,10)}))"
   ]
  },
  {
   "cell_type": "code",
   "execution_count": 76,
   "metadata": {},
   "outputs": [
    {
     "data": {
      "text/plain": [
       "[<matplotlib.lines.Line2D at 0x278b4e93828>,\n",
       " <matplotlib.lines.Line2D at 0x278b4e93978>]"
      ]
     },
     "execution_count": 76,
     "metadata": {},
     "output_type": "execute_result"
    },
    {
     "data": {
      "image/png": "[encoded data removed]",
      "text/plain": [
       "<matplotlib.figure.Figure at 0x278b4e4ae48>"
      ]
     },
     "metadata": {},
     "output_type": "display_data"
    }
   ],
   "source": [
    "#plotting losses\n",
    "plt.plot(losses)"
   ]
  },
  {
   "cell_type": "markdown",
   "metadata": {},
   "source": [
    "### A note on discriminator and generator loss"
   ]
  },
  {
   "cell_type": "markdown",
   "metadata": {},
   "source": [
    "In a GAN, we want the generator to be good enough so that it fools the discriminator. In such a scenario, the discriminator would be unable to distinguish real samples from the fake ones and would give an output of 0.5 for both.\n",
    "\n",
    "Taking a look at the loss functions used and plugging in 0.5 for discriminator output for both x and G(z)..."
   ]
  },
  {
   "cell_type": "code",
   "execution_count": 1,
   "metadata": {},
   "outputs": [
    {
     "data": {
      "image/png": "[encoded data removed]",
      "text/plain": [
       "<IPython.core.display.Image object>"
      ]
     },
     "execution_count": 1,
     "metadata": {},
     "output_type": "execute_result"
    }
   ],
   "source": [
    "from IPython.core.display import Image \n",
    "Image(filename='./images/losses.png')"
   ]
  },
  {
   "cell_type": "markdown",
   "metadata": {},
   "source": [
    "...we get Discriminator loss as 1.38 and Generator loss as 0.69, which is indeed the case in the above training run.\n",
    "\n",
    "The folder 'out_basic' contains histograms of generator outputs(orange) and original distribution(blue) plotted after each epoch."
   ]
  },
  {
   "cell_type": "code",
   "execution_count": null,
   "metadata": {
    "collapsed": true
   },
   "outputs": [],
   "source": []
  }
 ],
 "metadata": {
  "kernelspec": {
   "display_name": "Python 3",
   "language": "python",
   "name": "python3"
  },
  "language_info": {
   "codemirror_mode": {
    "name": "ipython",
    "version": 3
   },
   "file_extension": ".py",
   "mimetype": "text/x-python",
   "name": "python",
   "nbconvert_exporter": "python",
   "pygments_lexer": "ipython3",
   "version": "3.6.3"
  }
 },
 "nbformat": 4,
 "nbformat_minor": 2
}
